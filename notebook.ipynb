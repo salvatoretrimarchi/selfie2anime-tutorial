{
 "cells": [
  {
   "cell_type": "markdown",
   "metadata": {
    "colab_type": "text",
    "id": "70vtsoUS6uOx"
   },
   "outputs": [],
   "source": [
    "# UGATIT Tutorial"
   ]
  },
  {
   "cell_type": "markdown",
   "metadata": {},
   "outputs": [],
   "source": [
    "### Git Repo (if not cloned already)"
   ]
  },
  {
   "cell_type": "code",
   "metadata": {},
   "outputs": [],
   "source": [
    "!git clone https://github.com/t04glovern/selfie2anime-tutorial\n",
    "%cd selfie2anime-tutorial"
   ]
  },
  {
   "cell_type": "markdown",
   "metadata": {
    "colab_type": "text",
    "id": "rSUp09Hf66G5"
   },
   "outputs": [],
   "source": [
    "### Dependencies"
   ]
  },
  {
   "cell_type": "code",
   "metadata": {
    "colab": {},
    "colab_type": "code",
    "id": "2n1zfOk468qa"
   },
   "outputs": [],
   "source": [
    "!pip install --upgrade pip\n",
    "!pip install -r requirements.txt\n",
    "%cd selfie2anime-tutorial"
   ]
  },
  {
   "cell_type": "markdown",
   "metadata": {},
   "outputs": [],
   "source": [
    "### Dataset (only available for private workshop)"
   ]
  },
  {
   "cell_type": "code",
   "metadata": {},
   "outputs": [],
   "source": [
    "# AWS\n",
    "!aws s3 cp s3://devopstar/resources/ugatit/selfie2anime/selfie2anime.zip dataset/selfie2anime.zip\n",
    "!unzip -q dataset/selfie2anime.zip -d dataset\n",
    "\n",
    "# Colab\n",
    "!wget -O dataset/selfie2anime.zip https://devopstar.s3.amazonaws.com/resources/ugatit/selfie2anime/selfie2anime.zip\n",
    "!unzip -q dataset/selfie2anime.zip -d dataset"
   ]
  },
  {
   "cell_type": "markdown",
   "metadata": {
    "colab_type": "text",
    "id": "G6Baukq28HNX"
   },
   "outputs": [],
   "source": [
    "### Train"
   ]
  },
  {
   "cell_type": "code",
   "metadata": {
    "colab": {},
    "colab_type": "code",
    "id": "hR4tZ96A8IMY"
   },
   "outputs": [],
   "source": [
    "!python main.py --dataset DATASET_NAME --phase train --light True"
   ]
  },
  {
   "cell_type": "markdown",
   "metadata": {
    "colab_type": "text",
    "id": "Wyi62BmT8LOa"
   },
   "outputs": [],
   "source": [
    "### Test"
   ]
  },
  {
   "cell_type": "code",
   "metadata": {
    "colab": {},
    "colab_type": "code",
    "id": "G1KNKOBv8MAX"
   },
   "outputs": [],
   "source": [
    "!python main.py --dataset DATASET_NAME --phase test --light True"
   ]
  }
 ],
 "metadata": {
  "file_extension": ".py",
  "kernelspec": {
   "display_name": "conda_tensorflow_p36",
   "language": "python",
   "name": "conda_tensorflow_p36"
  },
  "language_info": {
   "codemirror_mode": {
    "name": "ipython",
    "version": 3
   },
   "file_extension": ".py",
   "mimetype": "text/x-python",
   "name": "python",
   "nbconvert_exporter": "python",
   "pygments_lexer": "ipython3",
   "version": "3.6.5"
  },
  "mimetype": "text/x-python",
  "name": "python",
  "npconvert_exporter": "python",
  "pygments_lexer": "ipython3",
  "version": 3
 },
 "nbformat": 4,
 "nbformat_minor": 4
}